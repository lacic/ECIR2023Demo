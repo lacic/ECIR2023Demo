{
 "cells": [
  {
   "cell_type": "code",
   "execution_count": null,
   "id": "13bb97ae-d85e-4123-aeea-a090cd443e37",
   "metadata": {},
   "outputs": [],
   "source": [
    "import numpy as np\n",
    "import pandas as pd\n",
    "import subprocess\n",
    "import argparse\n",
    "import datetime\n",
    "import json\n",
    "import requests\n",
    "from requests.structures import CaseInsensitiveDict"
   ]
  },
  {
   "cell_type": "markdown",
   "source": [
    "#### Download MovieLens item and user data and prepare for reco output"
   ],
   "metadata": {
    "collapsed": false,
    "pycharm": {
     "name": "#%% md\n"
    }
   }
  },
  {
   "cell_type": "code",
   "execution_count": null,
   "outputs": [],
   "source": [
    "item_url = \"http://files.grouplens.org/datasets/movielens/ml-100k/u.item\"\n",
    "\n",
    "movie_dict = {}\n",
    "user_dict = {}\n",
    "\n",
    "genres = [\"unknown\", \"action\", \"adventure\", \"animation\", \"children\", \"comedy\", \"crime\", \"documentary\", \"drama\", \n",
    "          \"fantasy\", \"noir\", \"horror\", \"musical\", \"mystery\", \"romance\", \"scifi\", \"thriller\", \"war\", \"western\"] \n",
    "colnames=['id', 'title', 'release_date', 'video_release_date', 'imdb_url'] \n",
    "colnames.extend(genres)\n",
    "\n",
    "item_df = pd.read_csv(item_url, sep='|', header=None, names=colnames, encoding='latin-1')\n",
    "\n",
    "for idx, row in item_df.iterrows():\n",
    "    movie_dict[row.id] = row.title\n",
    "\n",
    "user_url = \"http://files.grouplens.org/datasets/movielens/ml-100k/u.user\"\n",
    "\n",
    "colnames=['id', 'age', 'gender', 'occupation', 'zip'] \n",
    "user_df = pd.read_csv(user_url, sep='|', header=None, names=colnames)\n",
    "\n",
    "for idx, row in user_df.iterrows():\n",
    "    user_dict[row.id] = row.occupation\n",
    "\n",
    "print(\"Movies: \" + str(len(movie_dict)) + \" - Users: \" + str(len(user_dict)))"
   ],
   "metadata": {
    "collapsed": false,
    "pycharm": {
     "name": "#%%\n"
    }
   }
  },
  {
   "cell_type": "markdown",
   "source": [
    "**API-key** and **Domain-ID** which need to be copy/pasted from the Uptrendz platform:"
   ],
   "metadata": {
    "collapsed": false,
    "pycharm": {
     "name": "#%% md\n"
    }
   }
  },
  {
   "cell_type": "code",
   "execution_count": null,
   "outputs": [],
   "source": [
    "API_KEY = '<INSERT YOUR API KEY>'\n",
    "DOMAIN_ID = '<INSERT YOUR DOMAIN ID>'\n",
    "\n",
    "headers = {\n",
    "    'x-api-key': API_KEY,\n",
    "    'x-domain-id': DOMAIN_ID,\n",
    "    'Content-Type': 'application/json'\n",
    "}\n",
    "\n",
    "test_user = \"1\"\n",
    "count = 5\n",
    "test_item = \"9\""
   ],
   "metadata": {
    "collapsed": false,
    "pycharm": {
     "name": "#%%\n"
    }
   }
  },
  {
   "cell_type": "markdown",
   "source": [
    "**Prerequisite**: Setup a popularity-based recommendation API with post-filtering on movie genre\n",
    "\n",
    "https://github.com/lacic/ECIR2023Demo/blob/main/configure_reco_scenarios.md#popularity-with-post-filtering-on-movie-genre"
   ],
   "metadata": {
    "collapsed": false,
    "pycharm": {
     "name": "#%% md\n"
    }
   }
  },
  {
   "cell_type": "code",
   "execution_count": null,
   "outputs": [],
   "source": [
    "scenario = \"popular-horror-movies\"\n",
    "\n",
    "response = requests.get('https://app.uptrendz.ai/sp/recomm?scenarioId=' + scenario + '&count=' + str(count) + '&userId=' + test_user, headers=headers)\n",
    "response_dict = json.loads(response.text)\n",
    "\n",
    "reco_movies = [movie_dict[int(x)] for x in response_dict[\"recommIds\"]]\n",
    "print(\"Most popular horror movies: \\n\" + \", \".join(reco_movies))"
   ],
   "metadata": {
    "collapsed": false,
    "pycharm": {
     "name": "#%%\n"
    }
   }
  },
  {
   "cell_type": "markdown",
   "source": [
    "**Prerequisite**: Setup a recommendation API that is based on Collaborative Filtering\n",
    "\n",
    "https://github.com/lacic/ECIR2023Demo/blob/main/configure_reco_scenarios.md#collaborative-filtering-using-rating-data"
   ],
   "metadata": {
    "collapsed": false,
    "pycharm": {
     "name": "#%% md\n"
    }
   }
  },
  {
   "cell_type": "code",
   "execution_count": null,
   "outputs": [],
   "source": [
    "scenario = \"movies-based-on-my-ratings\"\n",
    "\n",
    "response = requests.get('https://app.uptrendz.ai/sp/recomm?scenarioId=' + scenario + '&count=' + str(count) + '&userId=' + test_user, headers=headers)\n",
    "response_dict = json.loads(response.text)\n",
    "\n",
    "reco_movies = [movie_dict[int(x)] for x in response_dict[\"recommIds\"]]\n",
    "print(\"Movies that people simiar to user \" + test_user + \" like: \\n\" + \", \".join(reco_movies))"
   ],
   "metadata": {
    "collapsed": false,
    "pycharm": {
     "name": "#%%\n"
    }
   }
  },
  {
   "cell_type": "markdown",
   "source": [
    "**Prerequisite**: Setup a Content-based recommendation API to find similar movies\n",
    "\n",
    "https://github.com/lacic/ECIR2023Demo/blob/main/configure_reco_scenarios.md#content-based-filtering-using-the-title-attribute"
   ],
   "metadata": {
    "collapsed": false,
    "pycharm": {
     "name": "#%% md\n"
    }
   }
  },
  {
   "cell_type": "code",
   "execution_count": null,
   "outputs": [],
   "source": [
    "scenario = \"similar-movies\"\n",
    "\n",
    "response = requests.get('https://app.uptrendz.ai/sp/recomm?scenarioId=' + scenario + '&count=' + str(count) + '&userId=' + test_user + '&itemId=' + test_item, headers=headers)\n",
    "response_dict = json.loads(response.text)\n",
    "\n",
    "reco_movies = [movie_dict[int(x)] for x in response_dict[\"recommIds\"]]\n",
    "print(\"Movies that content-wise similar to \" +  movie_dict[int(test_item)] + \": \\n\" + \", \".join(reco_movies))"
   ],
   "metadata": {
    "collapsed": false,
    "pycharm": {
     "name": "#%%\n"
    }
   }
  },
  {
   "cell_type": "markdown",
   "source": [
    "**Prerequisite**: Setup a recommendation API that uses a hybrid approach to combine multiple algorithms\n",
    "\n",
    "https://github.com/lacic/ECIR2023Demo/blob/main/configure_reco_scenarios.md#weighted-hybrid"
   ],
   "metadata": {
    "collapsed": false,
    "pycharm": {
     "name": "#%% md\n"
    }
   }
  },
  {
   "cell_type": "code",
   "execution_count": null,
   "outputs": [],
   "source": [
    "scenario = \"hybrid-combination\"\n",
    "\n",
    "response = requests.get('https://app.uptrendz.ai/sp/recomm?scenarioId=' + scenario + '&count=' + str(count) + '&userId=' + test_user + '&itemId=' + test_item, headers=headers)\n",
    "response_dict = json.loads(response.text)\n",
    "\n",
    "reco_movies = [movie_dict[int(x)] for x in response_dict[\"recommIds\"]]\n",
    "print(\"Movies that are a result of a hybrid combination \" +  movie_dict[int(test_item)] + \": \\n\" + \", \".join(reco_movies))"
   ],
   "metadata": {
    "collapsed": false,
    "pycharm": {
     "name": "#%%\n"
    }
   }
  },
  {
   "cell_type": "markdown",
   "source": [
    "**Prerequisite**: Setup a user-based recommendation API\n"
   ],
   "metadata": {
    "collapsed": false,
    "pycharm": {
     "name": "#%% md\n"
    }
   }
  },
  {
   "cell_type": "code",
   "execution_count": null,
   "outputs": [],
   "source": [
    "scenario = \"users-for-a-movie\"\n",
    "\n",
    "response = requests.get('https://app.uptrendz.ai/sp/recomm?scenarioId=' + scenario + '&count=' + str(count) + '&userId=' + test_user + '&itemId=' + test_item, headers=headers)\n",
    "response_dict = json.loads(response.text)\n",
    "\n",
    "reco_users = [x + \"(\" + user_dict[int(x)] + \")\" for x in response_dict[\"recommIds\"]]\n",
    "print(\"Users that are relevant for movie \" +  movie_dict[int(test_item)] + \": \\n\" + \", \".join(reco_users))"
   ],
   "metadata": {
    "collapsed": false,
    "pycharm": {
     "name": "#%%\n"
    }
   }
  },
  {
   "cell_type": "code",
   "execution_count": null,
   "id": "e2154d5b-8f6c-43de-8afb-54106ad04b9a",
   "metadata": {},
   "outputs": [],
   "source": [
    "scenario = \"popular-horror-movies\"\n",
    "\n",
    "response = requests.get('https://app.uptrendz.ai/sp/recomm?scenarioId=' + scenario + '&count=' + str(count) + '&userId=' + test_user, headers=headers)\n",
    "response_dict = json.loads(response.text)\n",
    "\n",
    "reco_movies = [movie_dict[int(x)] for x in response_dict[\"recommIds\"]]\n",
    "print(\"Most popular horror movies: \\n\" + \", \".join(reco_movies))"
   ]
  },
  {
   "cell_type": "markdown",
   "id": "d7a4f5e2-7c74-4c4c-937a-407332544ab8",
   "metadata": {},
   "source": [
    "**Prerequisite**: Setup a recommendation API that is based on Collaborative Filtering\n",
    "\n",
    "https://github.com/lacic/ECIR2023Demo/blob/main/configure_reco_scenarios.md#collaborative-filtering-using-rating-data"
   ]
  },
  {
   "cell_type": "code",
   "execution_count": null,
   "id": "c3b4b945-9b91-433d-8e5c-dd479023ff8c",
   "metadata": {},
   "outputs": [],
   "source": [
    "scenario = \"movies-based-on-my-ratings\"\n",
    "\n",
    "response = requests.get('https://app.uptrendz.ai/sp/recomm?scenarioId=' + scenario + '&count=' + str(count) + '&userId=' + test_user, headers=headers)\n",
    "response_dict = json.loads(response.text)\n",
    "\n",
    "reco_movies = [movie_dict[int(x)] for x in response_dict[\"recommIds\"]]\n",
    "print(\"Movies that people simiar to user \" + test_user + \" like: \\n\" + \", \".join(reco_movies))"
   ]
  },
  {
   "cell_type": "markdown",
   "id": "ce45df0d-ebff-4cfb-af68-dcf69a9bd1dd",
   "metadata": {},
   "source": [
    "**Prerequisite**: Setup a Content-based recommendation API to find similar movies\n",
    "\n",
    "https://github.com/lacic/ECIR2023Demo/blob/main/configure_reco_scenarios.md#content-based-filtering-using-the-title-attribute"
   ]
  },
  {
   "cell_type": "code",
   "execution_count": null,
   "id": "6e2a0f48-e533-4da5-968a-dd060985aea8",
   "metadata": {},
   "outputs": [],
   "source": [
    "scenario = \"similar-movies\"\n",
    "\n",
    "response = requests.get('https://app.uptrendz.ai/sp/recomm?scenarioId=' + scenario + '&count=' + str(count) + '&userId=' + test_user + '&itemId=' + test_item, headers=headers)\n",
    "response_dict = json.loads(response.text)\n",
    "\n",
    "reco_movies = [movie_dict[int(x)] for x in response_dict[\"recommIds\"]]\n",
    "print(\"Movies that content-wise similar to \" +  movie_dict[int(test_item)] + \": \\n\" + \", \".join(reco_movies))"
   ]
  },
  {
   "cell_type": "markdown",
   "id": "576b74e7-0590-4324-b429-3e42ca4018e1",
   "metadata": {},
   "source": [
    "**Prerequisite**: Setup a recommendation API that uses a hybrid approach to combine multiple algorithms\n",
    "\n",
    "https://github.com/lacic/ECIR2023Demo/blob/main/configure_reco_scenarios.md#weighted-hybrid"
   ]
  },
  {
   "cell_type": "code",
   "execution_count": null,
   "id": "7d63e02a-a09b-4b66-b00e-9bd035b1abdd",
   "metadata": {},
   "outputs": [],
   "source": [
    "scenario = \"hybrid-combination\"\n",
    "\n",
    "response = requests.get('https://app.uptrendz.ai/sp/recomm?scenarioId=' + scenario + '&count=' + str(count) + '&userId=' + test_user + '&itemId=' + test_item, headers=headers)\n",
    "response_dict = json.loads(response.text)\n",
    "\n",
    "reco_movies = [movie_dict[int(x)] for x in response_dict[\"recommIds\"]]\n",
    "print(\"Movies that are a result of a hybrid combination \" +  movie_dict[int(test_item)] + \": \\n\" + \", \".join(reco_movies))"
   ]
  },
  {
   "cell_type": "markdown",
   "id": "21fcf091-76d3-4101-a95e-348326e4c0ab",
   "metadata": {
    "tags": []
   },
   "source": [
    "**Prerequisite**: Setup a user-based recommendation API\n"
   ]
  },
  {
   "cell_type": "code",
   "execution_count": null,
   "id": "abd09041-e451-4d8e-9255-bf53c236eb6d",
   "metadata": {},
   "outputs": [],
   "source": [
    "scenario = \"users-for-a-movie\"\n",
    "\n",
    "response = requests.get('https://app.uptrendz.ai/sp/recomm?scenarioId=' + scenario + '&count=' + str(count) + '&userId=' + test_user + '&itemId=' + test_item, headers=headers)\n",
    "response_dict = json.loads(response.text)\n",
    "\n",
    "reco_users = [x + \"(\" + user_dict[int(x)] + \")\" for x in response_dict[\"recommIds\"]]\n",
    "print(\"Users that are relevant for movie \" +  movie_dict[int(test_item)] + \": \\n\" + \", \".join(reco_users))"
   ]
  },
  {
   "cell_type": "code",
   "execution_count": null,
   "id": "eabcf952-fe0d-4335-98b0-e7c849f2b49f",
   "metadata": {},
   "outputs": [],
   "source": []
  }
 ],
 "metadata": {
  "kernelspec": {
   "display_name": "Python 3 (ipykernel)",
   "language": "python",
   "name": "python3"
  },
  "language_info": {
   "codemirror_mode": {
    "name": "ipython",
    "version": 3
   },
   "file_extension": ".py",
   "mimetype": "text/x-python",
   "name": "python",
   "nbconvert_exporter": "python",
   "pygments_lexer": "ipython3",
   "version": "3.10.6"
  }
 },
 "nbformat": 4,
 "nbformat_minor": 5
}